{
  "nbformat": 4,
  "nbformat_minor": 0,
  "metadata": {
    "colab": {
      "provenance": []
    },
    "kernelspec": {
      "name": "python3",
      "display_name": "Python 3"
    },
    "language_info": {
      "name": "python"
    }
  },
  "cells": [
    {
      "cell_type": "code",
      "execution_count": null,
      "metadata": {
        "id": "Q_tuQr4FSSmX"
      },
      "outputs": [],
      "source": []
    },
    {
      "cell_type": "code",
      "source": [
        "# Домашнє завдання 1\n",
        "import numpy as np\n",
        "comment = '''\\n1 Створіть одновимірний масив (вектор)\n",
        "\t\tз першими 10-ма натуральними числами\n",
        "\t\tта виведіть його значення.'''\n",
        "print(comment)\n",
        "m1 = np.arange(1, 11)\n",
        "print('\\nRESULT:')\n",
        "print(m1)\n",
        "m1_1 = np.linspace(1, 10, num=10)\n",
        "print('\\nRESULT:')\n",
        "print(m1_1)"
      ],
      "metadata": {
        "id": "6ICRw-c0Sa0X"
      },
      "execution_count": null,
      "outputs": []
    },
    {
      "cell_type": "code",
      "source": [
        "comment = '''\\n2 Створіть двовимірний масив (матрицю) розміром 3x3,\n",
        "\t\tзаповніть його нулями\n",
        "\t\tта виведіть його значення.'''\n",
        "print(comment)\n",
        "m1 = np.zeros((3,3), dtype=int)\n",
        "print('\\nRESULT:')\n",
        "print(m1)"
      ],
      "metadata": {
        "id": "7k0X1JEYmYCh"
      },
      "execution_count": null,
      "outputs": []
    },
    {
      "cell_type": "code",
      "source": [
        "comment = '''\\n3 Створіть масив розміром 5x5,\n",
        "\t\tзаповніть його випадковими цілими числами\n",
        "\t\tв діапазоні від 1 до 10\n",
        "\t\tта виведіть його значення.'''\n",
        "print(comment)\n",
        "m1 = np.random.randint(1, 11, size=(5, 5))\n",
        "print('\\nRESULT:')\n",
        "print(m1)"
      ],
      "metadata": {
        "id": "WASi9GWTmYsV"
      },
      "execution_count": null,
      "outputs": []
    },
    {
      "cell_type": "code",
      "source": [
        "comment = '''\\n4 Створіть масив розміром 4x4,\n",
        "\t\tзаповніть його випадковими дійсними числами\n",
        "\t\tв діапазоні від 0 до 1\n",
        "\t\tта виведіть його значення.'''\n",
        "print(comment)\n",
        "m3 = np.random.rand(4, 4)\n",
        "print('\\nRESULT:')\n",
        "print(m3)"
      ],
      "metadata": {
        "id": "h3V3H6HJmY2H"
      },
      "execution_count": null,
      "outputs": []
    },
    {
      "cell_type": "code",
      "source": [
        "comment = '''\\n5 Створіть два одновимірних масиви розміром 5,\n",
        "\t\tзаповніть їх випадковими цілими числами\n",
        "\t\tв діапазоні від 1 до 10\n",
        "\t\tта виконайте на них поелементні операції\n",
        "\t\tдодавання, віднімання та множення.'''\n",
        "print(comment)\n",
        "m1 = np.random.randint(1, 11, size=5)\n",
        "m2 = np.random.randint(1, 11, size=5)\n",
        "print('sum:\\n', m1 + m2)\n",
        "print('subtraction:\\n', m1 - m2)\n",
        "print('multiplication:\\n', m1 * m2)"
      ],
      "metadata": {
        "id": "Crwb8xWimY_O"
      },
      "execution_count": null,
      "outputs": []
    },
    {
      "cell_type": "code",
      "source": [
        "comment = '''\\n6 Створіть два вектори розміром 7,\n",
        "\t\tзаповніть довільними числами\n",
        "\t\tта знайдіть їх скалярний добуток.'''\n",
        "print(comment)\n",
        "m1 = np.array([el for el in np.arange(7)])\n",
        "m2 = np.array([el for el in np.arange(7)])\n",
        "print('\\nRESULT:')\n",
        "print(np.dot(m1, m2))"
      ],
      "metadata": {
        "id": "Vfz9DP7QmZGu"
      },
      "execution_count": null,
      "outputs": []
    },
    {
      "cell_type": "code",
      "source": [
        "comment = '''\\n7 Створіть дві матриці розміром 2x2 та 2x3,\n",
        "\t\tзаповніть їх випадковими цілими числами\n",
        "\t\tв діапазоні від 1 до 10\n",
        "\t\tта перемножте їх між собою.'''\n",
        "print(comment)\n",
        "m1 = np.random.randint(1, 11, size=(2, 2))\n",
        "m2 = np.random.randint(1, 11, size=(2, 3))\n",
        "c = np.dot(m1, m2)\n",
        "print('\\nRESULT:')\n",
        "print(c)"
      ],
      "metadata": {
        "id": "Q6WcaQkdmZNV"
      },
      "execution_count": null,
      "outputs": []
    },
    {
      "cell_type": "code",
      "source": [
        "comment = '''\\n8 Створіть матрицю розміром 3x3,\n",
        "\t\tзаповніть її випадковими цілими числами\n",
        "\t\tв діапазоні від 1 до 10\n",
        "\t\tта знайдіть її обернену матрицю.'''\n",
        "print(comment)\n",
        "m1 = np.random.randint(1, 11, size=(3, 3))\n",
        "m2 = np.linalg.inv(m1)\n",
        "print('\\nRESULT:')\n",
        "print(m2)"
      ],
      "metadata": {
        "id": "F970BUy8mZUn"
      },
      "execution_count": null,
      "outputs": []
    },
    {
      "cell_type": "code",
      "source": [
        "comment = '''\\n9 Створіть матрицю розміром 4x4,\n",
        "\t\tзаповніть її випадковими дійсними числами\n",
        "\t\tв діапазоні від 0 до 1\n",
        "\t\tта транспонуйте її.'''\n",
        "print(comment)\n",
        "m1 = np.random.rand(4, 4)\n",
        "m1T = m1.T\n",
        "print('\\nRESULT:')\n",
        "print(m1T)"
      ],
      "metadata": {
        "id": "tvHOCTY4mZad"
      },
      "execution_count": null,
      "outputs": []
    },
    {
      "cell_type": "code",
      "source": [
        "comment = '''\\n10 Створіть матрицю розміром 3x4 та вектор розміром 4,\n",
        "\t\tзаповніть їх випадковими цілими числами\n",
        "\t\tв діапазоні від 1 до 10\n",
        "\t\tта перемножте матрицю на вектор.'''\n",
        "m1 = np.random.randint(1, 11, size=(3, 4))\n",
        "v1 = np.random.randint(1, 11, size=(4))\n",
        "print('\\nRESULT:')\n",
        "print(np.dot(m1, v1))"
      ],
      "metadata": {
        "id": "BKPC5MImmZfP"
      },
      "execution_count": null,
      "outputs": []
    },
    {
      "cell_type": "code",
      "source": [
        "comment = '''\\n11 Створіть матрицю розміром 2x3 та вектор розміром 3,\n",
        "\t\tзаповніть їх випадковими дійсними числами\n",
        "\t\tв діапазоні від 0 до 1\n",
        "\t\tта перемножте матрицю на вектор.'''\n",
        "print(comment)\n",
        "m1 = np.random.rand(2, 3)\n",
        "v1 = np.random.rand(3)\n",
        "print('\\nRESULT:')\n",
        "print(np.dot(m1, v1))"
      ],
      "metadata": {
        "id": "-mLgUBbymZkf"
      },
      "execution_count": null,
      "outputs": []
    },
    {
      "cell_type": "code",
      "source": [
        "comment = '''\\n12 Створіть дві матриці розміром 2x2,\n",
        "\t\tзаповніть їх випадковими цілими числами\n",
        "\t\tв діапазоні від 1 до 10\n",
        "\t\tта виконайте їхнє поелементне множення.'''\n",
        "print(comment)\n",
        "m1 = np.random.randint(1, 11, size=(2, 2))\n",
        "m2 = np.random.randint(1, 11, size=(2, 2))\n",
        "print('\\nRESULT:')\n",
        "print(np.multiply(m1, m2))"
      ],
      "metadata": {
        "id": "YBqDBkoUmZqH"
      },
      "execution_count": null,
      "outputs": []
    },
    {
      "cell_type": "code",
      "source": [
        "comment = '''\\n13 Створіть дві матриці розміром 2x2,\n",
        "\t\tзаповніть їх випадковими цілими числами\n",
        "\t\tв діапазоні від 1 до 10\n",
        "\t\tта знайдіть їх добуток.'''\n",
        "print(comment)\n",
        "m1 = np.random.randint(1, 11, size=(2, 2))\n",
        "m2 = np.random.randint(1, 11, size=(2, 2))\n",
        "print('\\nRESULT:')\n",
        "print(np.dot(m1, m2))"
      ],
      "metadata": {
        "id": "qgUiALy5mZvN"
      },
      "execution_count": null,
      "outputs": []
    },
    {
      "cell_type": "code",
      "source": [
        "comment = '''\\n14 Створіть матрицю розміром 5x5,\n",
        "\t\tзаповніть її випадковими цілими числами\n",
        "\t\tв діапазоні від 1 до 100\n",
        "\t\tта знайдіть суму елементів матриці.'''\n",
        "print(comment)\n",
        "m1 = np.random.randint(1, 101, size=(5, 5))\n",
        "print('\\nRESULT:')\n",
        "print(m1.sum())"
      ],
      "metadata": {
        "id": "j0ifzYhgmZ0-"
      },
      "execution_count": null,
      "outputs": []
    },
    {
      "cell_type": "code",
      "source": [
        "comment = '''\\n15 Створіть дві матриці розміром 4x4,\n",
        "\t\tзаповніть їх випадковими цілими числами\n",
        "\t\tв діапазоні від 1 до 10\n",
        "\t\tта знайдіть їхню різницю.'''\n",
        "print(comment)\n",
        "m1 = np.random.randint(1, 11, size=(4, 4))\n",
        "m2 = np.random.randint(1, 11, size=(4, 4))\n",
        "print('\\nRESULT:')\n",
        "print(m1 - m2)"
      ],
      "metadata": {
        "id": "GXH4ssm5mZ5t"
      },
      "execution_count": null,
      "outputs": []
    },
    {
      "cell_type": "code",
      "source": [
        "comment = '''\\n16 Створіть матрицю розміром 3x3,\n",
        "\t\tзаповніть її випадковими дійсними числами\n",
        "\t\tв діапазоні від 0 до 1\n",
        "\t\tта знайдіть вектор-стовпчик, що містить\n",
        "\t\tсуму елементів кожного рядка матриці.'''\n",
        "print(comment)\n",
        "m1 = np.random.rand(3, 3)\n",
        "print('\\nRESULT:')\n",
        "print(np.array([[el.sum()] for el in m1[:]]))"
      ],
      "metadata": {
        "id": "9JwyYOg9mZ--"
      },
      "execution_count": null,
      "outputs": []
    },
    {
      "cell_type": "code",
      "source": [
        "comment = '''\\n17 Створіть матрицю розміром 3x4\n",
        "\t\tз довільними цілими числами\n",
        "\t\tі створінь матрицю з квадратами цих чисел.'''\n",
        "print(comment)\n",
        "m1 = np.random.randint(1, 11, size=(3, 4))\n",
        "print(m1)\n",
        "print('\\nRESULT:')\n",
        "print(np.square(m1))"
      ],
      "metadata": {
        "id": "WgXyUFLnmaEt"
      },
      "execution_count": null,
      "outputs": []
    },
    {
      "cell_type": "code",
      "source": [
        "comment = '''\\n18 Створіть вектор розміром 4,\n",
        "\t\tзаповніть його випадковими цілими числами\n",
        "\t\tв діапазоні від 1 до 50\n",
        "\t\tта знайдіть вектор з квадратними коренями цих чисел.'''\n",
        "print(comment)\n",
        "m1 = np.random.randint(1, 51, size=(4))\n",
        "print(m1)\n",
        "print('\\nRESULT:')\n",
        "print(np.sqrt(m1))"
      ],
      "metadata": {
        "id": "9WC1Z61OmaOe"
      },
      "execution_count": null,
      "outputs": []
    }
  ]
}