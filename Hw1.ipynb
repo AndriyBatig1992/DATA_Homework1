{
  "nbformat": 4,
  "nbformat_minor": 0,
  "metadata": {
    "colab": {
      "provenance": []
    },
    "kernelspec": {
      "name": "python3",
      "display_name": "Python 3"
    },
    "language_info": {
      "name": "python"
    }
  },
  "cells": [
    {
      "cell_type": "code",
      "execution_count": null,
      "metadata": {
        "id": "Q_tuQr4FSSmX"
      },
      "outputs": [],
      "source": []
    },
    {
      "cell_type": "code",
      "source": [
        "# Домашнє завдання 1\n",
        "import numpy as np\n",
        "comment = '''\\n1 Створіть одновимірний масив (вектор)\n",
        "\t\tз першими 10-ма натуральними числами\n",
        "\t\tта виведіть його значення.'''\n",
        "print(comment)\n",
        "m1 = np.arange(1, 11)\n",
        "print('\\nRESULT:')\n",
        "print(m1)\n",
        "m1_1 = np.linspace(1, 10, num=10)\n",
        "print('\\nRESULT:')\n",
        "print(m1_1)"
      ],
      "metadata": {
        "id": "6ICRw-c0Sa0X",
        "colab": {
          "base_uri": "https://localhost:8080/"
        },
        "outputId": "6bbf6f33-b40b-452d-efb6-13541895452f"
      },
      "execution_count": 23,
      "outputs": [
        {
          "output_type": "stream",
          "name": "stdout",
          "text": [
            "\n",
            "1 Створіть одновимірний масив (вектор)\n",
            "\t\tз першими 10-ма натуральними числами\n",
            "\t\tта виведіть його значення.\n",
            "\n",
            "RESULT:\n",
            "[ 1  2  3  4  5  6  7  8  9 10]\n",
            "\n",
            "RESULT:\n",
            "[ 1.  2.  3.  4.  5.  6.  7.  8.  9. 10.]\n"
          ]
        }
      ]
    },
    {
      "cell_type": "code",
      "source": [
        "comment = '''\\n2 Створіть двовимірний масив (матрицю) розміром 3x3,\n",
        "\t\tзаповніть його нулями\n",
        "\t\tта виведіть його значення.'''\n",
        "print(comment)\n",
        "m1 = np.zeros((3,3), dtype=int)\n",
        "print('\\nRESULT:')\n",
        "print(m1)"
      ],
      "metadata": {
        "id": "7k0X1JEYmYCh",
        "colab": {
          "base_uri": "https://localhost:8080/"
        },
        "outputId": "e8753603-d669-438b-dd7a-a593482dbf28"
      },
      "execution_count": 24,
      "outputs": [
        {
          "output_type": "stream",
          "name": "stdout",
          "text": [
            "\n",
            "2 Створіть двовимірний масив (матрицю) розміром 3x3,\n",
            "\t\tзаповніть його нулями\n",
            "\t\tта виведіть його значення.\n",
            "\n",
            "RESULT:\n",
            "[[0 0 0]\n",
            " [0 0 0]\n",
            " [0 0 0]]\n"
          ]
        }
      ]
    },
    {
      "cell_type": "code",
      "source": [
        "comment = '''\\n3 Створіть масив розміром 5x5,\n",
        "\t\tзаповніть його випадковими цілими числами\n",
        "\t\tв діапазоні від 1 до 10\n",
        "\t\tта виведіть його значення.'''\n",
        "print(comment)\n",
        "m1 = np.random.randint(1, 11, size=(5, 5))\n",
        "print('\\nRESULT:')\n",
        "print(m1)"
      ],
      "metadata": {
        "id": "WASi9GWTmYsV",
        "colab": {
          "base_uri": "https://localhost:8080/"
        },
        "outputId": "2d9771b3-4f0a-4ba8-b603-53cc9424ae16"
      },
      "execution_count": 25,
      "outputs": [
        {
          "output_type": "stream",
          "name": "stdout",
          "text": [
            "\n",
            "3 Створіть масив розміром 5x5,\n",
            "\t\tзаповніть його випадковими цілими числами\n",
            "\t\tв діапазоні від 1 до 10\n",
            "\t\tта виведіть його значення.\n",
            "\n",
            "RESULT:\n",
            "[[ 2  2  4 10  7]\n",
            " [ 1  8  6  1  1]\n",
            " [ 9  4  4  7  8]\n",
            " [ 8  4  3  9  7]\n",
            " [ 2  2  3  6 10]]\n"
          ]
        }
      ]
    },
    {
      "cell_type": "code",
      "source": [
        "comment = '''\\n4 Створіть масив розміром 4x4,\n",
        "\t\tзаповніть його випадковими дійсними числами\n",
        "\t\tв діапазоні від 0 до 1\n",
        "\t\tта виведіть його значення.'''\n",
        "print(comment)\n",
        "m3 = np.random.rand(4, 4)\n",
        "print('\\nRESULT:')\n",
        "print(m3)"
      ],
      "metadata": {
        "id": "h3V3H6HJmY2H",
        "colab": {
          "base_uri": "https://localhost:8080/"
        },
        "outputId": "43fe83f9-bbbb-4974-d6e7-46a0f64f2291"
      },
      "execution_count": 26,
      "outputs": [
        {
          "output_type": "stream",
          "name": "stdout",
          "text": [
            "\n",
            "4 Створіть масив розміром 4x4,\n",
            "\t\tзаповніть його випадковими дійсними числами\n",
            "\t\tв діапазоні від 0 до 1\n",
            "\t\tта виведіть його значення.\n",
            "\n",
            "RESULT:\n",
            "[[0.92841016 0.93603925 0.91698458 0.78814112]\n",
            " [0.01238831 0.36991455 0.09819842 0.4122299 ]\n",
            " [0.83204584 0.13761997 0.63656904 0.45127458]\n",
            " [0.4069292  0.5703435  0.21666593 0.82721052]]\n"
          ]
        }
      ]
    },
    {
      "cell_type": "code",
      "source": [
        "comment = '''\\n5 Створіть два одновимірних масиви розміром 5,\n",
        "\t\tзаповніть їх випадковими цілими числами\n",
        "\t\tв діапазоні від 1 до 10\n",
        "\t\tта виконайте на них поелементні операції\n",
        "\t\tдодавання, віднімання та множення.'''\n",
        "print(comment)\n",
        "m1 = np.random.randint(1, 11, size=5)\n",
        "m2 = np.random.randint(1, 11, size=5)\n",
        "print('sum:\\n', m1 + m2)\n",
        "print('subtraction:\\n', m1 - m2)\n",
        "print('multiplication:\\n', m1 * m2)"
      ],
      "metadata": {
        "id": "Crwb8xWimY_O",
        "colab": {
          "base_uri": "https://localhost:8080/"
        },
        "outputId": "3c823f9a-02d7-4558-d646-7fbada34823f"
      },
      "execution_count": 27,
      "outputs": [
        {
          "output_type": "stream",
          "name": "stdout",
          "text": [
            "\n",
            "5 Створіть два одновимірних масиви розміром 5,\n",
            "\t\tзаповніть їх випадковими цілими числами\n",
            "\t\tв діапазоні від 1 до 10\n",
            "\t\tта виконайте на них поелементні операції\n",
            "\t\tдодавання, віднімання та множення.\n",
            "sum:\n",
            " [13 13 11 12 13]\n",
            "subtraction:\n",
            " [-3 -7 -3 -8 -7]\n",
            "multiplication:\n",
            " [40 30 28 20 30]\n"
          ]
        }
      ]
    },
    {
      "cell_type": "code",
      "source": [
        "comment = '''\\n6 Створіть два вектори розміром 7,\n",
        "\t\tзаповніть довільними числами\n",
        "\t\tта знайдіть їх скалярний добуток.'''\n",
        "print(comment)\n",
        "m1 = np.array([el for el in np.arange(7)])\n",
        "m2 = np.array([el for el in np.arange(7)])\n",
        "print('\\nRESULT:')\n",
        "print(np.dot(m1, m2))"
      ],
      "metadata": {
        "id": "Vfz9DP7QmZGu",
        "colab": {
          "base_uri": "https://localhost:8080/"
        },
        "outputId": "c6b483e6-7a2b-43a1-d3e8-924a1ed00443"
      },
      "execution_count": 28,
      "outputs": [
        {
          "output_type": "stream",
          "name": "stdout",
          "text": [
            "\n",
            "6 Створіть два вектори розміром 7,\n",
            "\t\tзаповніть довільними числами\n",
            "\t\tта знайдіть їх скалярний добуток.\n",
            "\n",
            "RESULT:\n",
            "91\n"
          ]
        }
      ]
    },
    {
      "cell_type": "code",
      "source": [
        "comment = '''\\n7 Створіть дві матриці розміром 2x2 та 2x3,\n",
        "\t\tзаповніть їх випадковими цілими числами\n",
        "\t\tв діапазоні від 1 до 10\n",
        "\t\tта перемножте їх між собою.'''\n",
        "print(comment)\n",
        "m1 = np.random.randint(1, 11, size=(2, 2))\n",
        "m2 = np.random.randint(1, 11, size=(2, 3))\n",
        "c = np.dot(m1, m2)\n",
        "print('\\nRESULT:')\n",
        "print(c)"
      ],
      "metadata": {
        "id": "Q6WcaQkdmZNV",
        "colab": {
          "base_uri": "https://localhost:8080/"
        },
        "outputId": "d5d8ef7d-592e-429d-bbba-6b2be97915e0"
      },
      "execution_count": 29,
      "outputs": [
        {
          "output_type": "stream",
          "name": "stdout",
          "text": [
            "\n",
            "7 Створіть дві матриці розміром 2x2 та 2x3,\n",
            "\t\tзаповніть їх випадковими цілими числами\n",
            "\t\tв діапазоні від 1 до 10\n",
            "\t\tта перемножте їх між собою.\n",
            "\n",
            "RESULT:\n",
            "[[ 82 104 100]\n",
            " [ 77 116 122]]\n"
          ]
        }
      ]
    },
    {
      "cell_type": "code",
      "source": [
        "comment = '''\\n8 Створіть матрицю розміром 3x3,\n",
        "\t\tзаповніть її випадковими цілими числами\n",
        "\t\tв діапазоні від 1 до 10\n",
        "\t\tта знайдіть її обернену матрицю.'''\n",
        "print(comment)\n",
        "m1 = np.random.randint(1, 11, size=(3, 3))\n",
        "m2 = np.linalg.inv(m1)\n",
        "print('\\nRESULT:')\n",
        "print(m2)"
      ],
      "metadata": {
        "id": "F970BUy8mZUn",
        "colab": {
          "base_uri": "https://localhost:8080/"
        },
        "outputId": "e7c96705-d7e7-4d0b-94fa-7693b72ad92b"
      },
      "execution_count": 30,
      "outputs": [
        {
          "output_type": "stream",
          "name": "stdout",
          "text": [
            "\n",
            "8 Створіть матрицю розміром 3x3,\n",
            "\t\tзаповніть її випадковими цілими числами\n",
            "\t\tв діапазоні від 1 до 10\n",
            "\t\tта знайдіть її обернену матрицю.\n",
            "\n",
            "RESULT:\n",
            "[[ 0.0617284   0.22222222 -0.20987654]\n",
            " [-0.19753086 -0.11111111  0.27160494]\n",
            " [ 0.22222222  0.         -0.05555556]]\n"
          ]
        }
      ]
    },
    {
      "cell_type": "code",
      "source": [
        "comment = '''\\n9 Створіть матрицю розміром 4x4,\n",
        "\t\tзаповніть її випадковими дійсними числами\n",
        "\t\tв діапазоні від 0 до 1\n",
        "\t\tта транспонуйте її.'''\n",
        "print(comment)\n",
        "m1 = np.random.rand(4, 4)\n",
        "m1T = m1.T\n",
        "print('\\nRESULT:')\n",
        "print(m1T)"
      ],
      "metadata": {
        "id": "tvHOCTY4mZad",
        "colab": {
          "base_uri": "https://localhost:8080/"
        },
        "outputId": "a03cfb49-350a-4775-9f81-cb7d5fb35e5d"
      },
      "execution_count": 31,
      "outputs": [
        {
          "output_type": "stream",
          "name": "stdout",
          "text": [
            "\n",
            "9 Створіть матрицю розміром 4x4,\n",
            "\t\tзаповніть її випадковими дійсними числами\n",
            "\t\tв діапазоні від 0 до 1\n",
            "\t\tта транспонуйте її.\n",
            "\n",
            "RESULT:\n",
            "[[0.08306824 0.58807991 0.58878314 0.81480947]\n",
            " [0.2215306  0.57059361 0.25300532 0.86788787]\n",
            " [0.03038717 0.57035382 0.69292764 0.67122703]\n",
            " [0.51271282 0.6630704  0.57578288 0.92751175]]\n"
          ]
        }
      ]
    },
    {
      "cell_type": "code",
      "source": [
        "comment = '''\\n10 Створіть матрицю розміром 3x4 та вектор розміром 4,\n",
        "\t\tзаповніть їх випадковими цілими числами\n",
        "\t\tв діапазоні від 1 до 10\n",
        "\t\tта перемножте матрицю на вектор.'''\n",
        "m1 = np.random.randint(1, 11, size=(3, 4))\n",
        "v1 = np.random.randint(1, 11, size=(4))\n",
        "print('\\nRESULT:')\n",
        "print(np.dot(m1, v1))"
      ],
      "metadata": {
        "id": "BKPC5MImmZfP",
        "colab": {
          "base_uri": "https://localhost:8080/"
        },
        "outputId": "525195b2-37cc-450c-f239-424c019e9d30"
      },
      "execution_count": 32,
      "outputs": [
        {
          "output_type": "stream",
          "name": "stdout",
          "text": [
            "\n",
            "RESULT:\n",
            "[118 200 150]\n"
          ]
        }
      ]
    },
    {
      "cell_type": "code",
      "source": [
        "comment = '''\\n11 Створіть матрицю розміром 2x3 та вектор розміром 3,\n",
        "\t\tзаповніть їх випадковими дійсними числами\n",
        "\t\tв діапазоні від 0 до 1\n",
        "\t\tта перемножте матрицю на вектор.'''\n",
        "print(comment)\n",
        "m1 = np.random.rand(2, 3)\n",
        "v1 = np.random.rand(3)\n",
        "print('\\nRESULT:')\n",
        "print(np.dot(m1, v1))"
      ],
      "metadata": {
        "id": "-mLgUBbymZkf",
        "colab": {
          "base_uri": "https://localhost:8080/"
        },
        "outputId": "2ff1bbfc-b2f1-4ef1-bcac-f39fcff9a788"
      },
      "execution_count": 33,
      "outputs": [
        {
          "output_type": "stream",
          "name": "stdout",
          "text": [
            "\n",
            "11 Створіть матрицю розміром 2x3 та вектор розміром 3,\n",
            "\t\tзаповніть їх випадковими дійсними числами\n",
            "\t\tв діапазоні від 0 до 1\n",
            "\t\tта перемножте матрицю на вектор.\n",
            "\n",
            "RESULT:\n",
            "[0.90910679 0.74179931]\n"
          ]
        }
      ]
    },
    {
      "cell_type": "code",
      "source": [
        "comment = '''\\n12 Створіть дві матриці розміром 2x2,\n",
        "\t\tзаповніть їх випадковими цілими числами\n",
        "\t\tв діапазоні від 1 до 10\n",
        "\t\tта виконайте їхнє поелементне множення.'''\n",
        "print(comment)\n",
        "m1 = np.random.randint(1, 11, size=(2, 2))\n",
        "m2 = np.random.randint(1, 11, size=(2, 2))\n",
        "print('\\nRESULT:')\n",
        "print(np.multiply(m1, m2))"
      ],
      "metadata": {
        "id": "YBqDBkoUmZqH",
        "colab": {
          "base_uri": "https://localhost:8080/"
        },
        "outputId": "bd5b59b2-43c1-4b9a-e8f5-748b40c56e7a"
      },
      "execution_count": 34,
      "outputs": [
        {
          "output_type": "stream",
          "name": "stdout",
          "text": [
            "\n",
            "12 Створіть дві матриці розміром 2x2,\n",
            "\t\tзаповніть їх випадковими цілими числами\n",
            "\t\tв діапазоні від 1 до 10\n",
            "\t\tта виконайте їхнє поелементне множення.\n",
            "\n",
            "RESULT:\n",
            "[[30 16]\n",
            " [60 60]]\n"
          ]
        }
      ]
    },
    {
      "cell_type": "code",
      "source": [
        "comment = '''\\n13 Створіть дві матриці розміром 2x2,\n",
        "\t\tзаповніть їх випадковими цілими числами\n",
        "\t\tв діапазоні від 1 до 10\n",
        "\t\tта знайдіть їх добуток.'''\n",
        "print(comment)\n",
        "m1 = np.random.randint(1, 11, size=(2, 2))\n",
        "m2 = np.random.randint(1, 11, size=(2, 2))\n",
        "print('\\nRESULT:')\n",
        "print(np.dot(m1, m2))"
      ],
      "metadata": {
        "id": "qgUiALy5mZvN",
        "colab": {
          "base_uri": "https://localhost:8080/"
        },
        "outputId": "9ffbff78-61fa-4426-fc78-32a2eca5aa7b"
      },
      "execution_count": 35,
      "outputs": [
        {
          "output_type": "stream",
          "name": "stdout",
          "text": [
            "\n",
            "13 Створіть дві матриці розміром 2x2,\n",
            "\t\tзаповніть їх випадковими цілими числами\n",
            "\t\tв діапазоні від 1 до 10\n",
            "\t\tта знайдіть їх добуток.\n",
            "\n",
            "RESULT:\n",
            "[[20 55]\n",
            " [23 73]]\n"
          ]
        }
      ]
    },
    {
      "cell_type": "code",
      "source": [
        "comment = '''\\n14 Створіть матрицю розміром 5x5,\n",
        "\t\tзаповніть її випадковими цілими числами\n",
        "\t\tв діапазоні від 1 до 100\n",
        "\t\tта знайдіть суму елементів матриці.'''\n",
        "print(comment)\n",
        "m1 = np.random.randint(1, 101, size=(5, 5))\n",
        "print('\\nRESULT:')\n",
        "print(m1.sum())"
      ],
      "metadata": {
        "id": "j0ifzYhgmZ0-",
        "colab": {
          "base_uri": "https://localhost:8080/"
        },
        "outputId": "a0818bf0-a7cb-4782-9ed6-ace45371a884"
      },
      "execution_count": 36,
      "outputs": [
        {
          "output_type": "stream",
          "name": "stdout",
          "text": [
            "\n",
            "14 Створіть матрицю розміром 5x5,\n",
            "\t\tзаповніть її випадковими цілими числами\n",
            "\t\tв діапазоні від 1 до 100\n",
            "\t\tта знайдіть суму елементів матриці.\n",
            "\n",
            "RESULT:\n",
            "1242\n"
          ]
        }
      ]
    },
    {
      "cell_type": "code",
      "source": [
        "comment = '''\\n15 Створіть дві матриці розміром 4x4,\n",
        "\t\tзаповніть їх випадковими цілими числами\n",
        "\t\tв діапазоні від 1 до 10\n",
        "\t\tта знайдіть їхню різницю.'''\n",
        "print(comment)\n",
        "m1 = np.random.randint(1, 11, size=(4, 4))\n",
        "m2 = np.random.randint(1, 11, size=(4, 4))\n",
        "print('\\nRESULT:')\n",
        "print(m1 - m2)"
      ],
      "metadata": {
        "id": "GXH4ssm5mZ5t",
        "colab": {
          "base_uri": "https://localhost:8080/"
        },
        "outputId": "aea7aa84-4a99-49bd-ba15-1e8d9cbe6f0d"
      },
      "execution_count": 37,
      "outputs": [
        {
          "output_type": "stream",
          "name": "stdout",
          "text": [
            "\n",
            "15 Створіть дві матриці розміром 4x4,\n",
            "\t\tзаповніть їх випадковими цілими числами\n",
            "\t\tв діапазоні від 1 до 10\n",
            "\t\tта знайдіть їхню різницю.\n",
            "\n",
            "RESULT:\n",
            "[[ 4  2 -7 -2]\n",
            " [ 3  0  6  8]\n",
            " [ 0  3  1 -2]\n",
            " [-3  5 -2  0]]\n"
          ]
        }
      ]
    },
    {
      "cell_type": "code",
      "source": [
        "comment = '''\\n16 Створіть матрицю розміром 3x3,\n",
        "\t\tзаповніть її випадковими дійсними числами\n",
        "\t\tв діапазоні від 0 до 1\n",
        "\t\tта знайдіть вектор-стовпчик, що містить\n",
        "\t\tсуму елементів кожного рядка матриці.'''\n",
        "print(comment)\n",
        "m1 = np.random.rand(3, 3)\n",
        "print('\\nRESULT:')\n",
        "print(np.array([[el.sum()] for el in m1[:]]))"
      ],
      "metadata": {
        "id": "9JwyYOg9mZ--",
        "colab": {
          "base_uri": "https://localhost:8080/"
        },
        "outputId": "267ca77e-9aca-4b76-d012-340d50a1edfd"
      },
      "execution_count": 38,
      "outputs": [
        {
          "output_type": "stream",
          "name": "stdout",
          "text": [
            "\n",
            "16 Створіть матрицю розміром 3x3,\n",
            "\t\tзаповніть її випадковими дійсними числами\n",
            "\t\tв діапазоні від 0 до 1\n",
            "\t\tта знайдіть вектор-стовпчик, що містить\n",
            "\t\tсуму елементів кожного рядка матриці.\n",
            "\n",
            "RESULT:\n",
            "[[1.63015566]\n",
            " [1.53439271]\n",
            " [1.67917958]]\n"
          ]
        }
      ]
    },
    {
      "cell_type": "code",
      "source": [
        "comment = '''\\n17 Створіть матрицю розміром 3x4\n",
        "\t\tз довільними цілими числами\n",
        "\t\tі створінь матрицю з квадратами цих чисел.'''\n",
        "print(comment)\n",
        "m1 = np.random.randint(1, 11, size=(3, 4))\n",
        "print(m1)\n",
        "print('\\nRESULT:')\n",
        "print(np.square(m1))"
      ],
      "metadata": {
        "id": "WgXyUFLnmaEt",
        "colab": {
          "base_uri": "https://localhost:8080/"
        },
        "outputId": "25756f6b-2417-4f13-d7d5-3e05e7c5c0b0"
      },
      "execution_count": 39,
      "outputs": [
        {
          "output_type": "stream",
          "name": "stdout",
          "text": [
            "\n",
            "17 Створіть матрицю розміром 3x4\n",
            "\t\tз довільними цілими числами\n",
            "\t\tі створінь матрицю з квадратами цих чисел.\n",
            "[[ 9  8 10  4]\n",
            " [ 1  3  7  1]\n",
            " [ 6  9  1  9]]\n",
            "\n",
            "RESULT:\n",
            "[[ 81  64 100  16]\n",
            " [  1   9  49   1]\n",
            " [ 36  81   1  81]]\n"
          ]
        }
      ]
    },
    {
      "cell_type": "code",
      "source": [
        "comment = '''\\n18 Створіть вектор розміром 4,\n",
        "\t\tзаповніть його випадковими цілими числами\n",
        "\t\tв діапазоні від 1 до 50\n",
        "\t\tта знайдіть вектор з квадратними коренями цих чисел.'''\n",
        "print(comment)\n",
        "m1 = np.random.randint(1, 51, size=(4))\n",
        "print(m1)\n",
        "print('\\nRESULT:')\n",
        "print(np.sqrt(m1))"
      ],
      "metadata": {
        "id": "9WC1Z61OmaOe",
        "colab": {
          "base_uri": "https://localhost:8080/"
        },
        "outputId": "b75049db-e7fa-48be-c7c0-6293b1af751a"
      },
      "execution_count": 40,
      "outputs": [
        {
          "output_type": "stream",
          "name": "stdout",
          "text": [
            "\n",
            "18 Створіть вектор розміром 4,\n",
            "\t\tзаповніть його випадковими цілими числами\n",
            "\t\tв діапазоні від 1 до 50\n",
            "\t\tта знайдіть вектор з квадратними коренями цих чисел.\n",
            "[30  3 38 38]\n",
            "\n",
            "RESULT:\n",
            "[5.47722558 1.73205081 6.164414   6.164414  ]\n"
          ]
        }
      ]
    }
  ]
}